{
  "nbformat": 4,
  "nbformat_minor": 0,
  "metadata": {
    "colab": {
      "provenance": [],
      "toc_visible": true
    },
    "kernelspec": {
      "name": "python3",
      "display_name": "Python 3"
    },
    "language_info": {
      "name": "python"
    },
    "widgets": {
      "application/vnd.jupyter.widget-state+json": {
        "8a4c37c17d2141a3a279327844b4f9d3": {
          "model_module": "@jupyter-widgets/controls",
          "model_name": "HBoxModel",
          "model_module_version": "1.5.0",
          "state": {
            "_dom_classes": [],
            "_model_module": "@jupyter-widgets/controls",
            "_model_module_version": "1.5.0",
            "_model_name": "HBoxModel",
            "_view_count": null,
            "_view_module": "@jupyter-widgets/controls",
            "_view_module_version": "1.5.0",
            "_view_name": "HBoxView",
            "box_style": "",
            "children": [
              "IPY_MODEL_7e2bb7309db649d087bb890387c9a2c5",
              "IPY_MODEL_96c8d0ca4c2848c694c4a6cfe5465d3c",
              "IPY_MODEL_193e98e58fb84009a0f6a6d76e4262d2"
            ],
            "layout": "IPY_MODEL_bd37c791b9604a5d82c5453eca276ac8"
          }
        },
        "7e2bb7309db649d087bb890387c9a2c5": {
          "model_module": "@jupyter-widgets/controls",
          "model_name": "HTMLModel",
          "model_module_version": "1.5.0",
          "state": {
            "_dom_classes": [],
            "_model_module": "@jupyter-widgets/controls",
            "_model_module_version": "1.5.0",
            "_model_name": "HTMLModel",
            "_view_count": null,
            "_view_module": "@jupyter-widgets/controls",
            "_view_module_version": "1.5.0",
            "_view_name": "HTMLView",
            "description": "",
            "description_tooltip": null,
            "layout": "IPY_MODEL_c1e952fb594c44d19338a1413dd9afc6",
            "placeholder": "​",
            "style": "IPY_MODEL_086b8d4cd66f4ff9a8af044211d0c3a9",
            "value": "100%"
          }
        },
        "96c8d0ca4c2848c694c4a6cfe5465d3c": {
          "model_module": "@jupyter-widgets/controls",
          "model_name": "FloatProgressModel",
          "model_module_version": "1.5.0",
          "state": {
            "_dom_classes": [],
            "_model_module": "@jupyter-widgets/controls",
            "_model_module_version": "1.5.0",
            "_model_name": "FloatProgressModel",
            "_view_count": null,
            "_view_module": "@jupyter-widgets/controls",
            "_view_module_version": "1.5.0",
            "_view_name": "ProgressView",
            "bar_style": "success",
            "description": "",
            "description_tooltip": null,
            "layout": "IPY_MODEL_4b405d625e97405880b858615d8c4ee2",
            "max": 100,
            "min": 0,
            "orientation": "horizontal",
            "style": "IPY_MODEL_eb376ba699d14ee8b583a6af1b06e2fd",
            "value": 100
          }
        },
        "193e98e58fb84009a0f6a6d76e4262d2": {
          "model_module": "@jupyter-widgets/controls",
          "model_name": "HTMLModel",
          "model_module_version": "1.5.0",
          "state": {
            "_dom_classes": [],
            "_model_module": "@jupyter-widgets/controls",
            "_model_module_version": "1.5.0",
            "_model_name": "HTMLModel",
            "_view_count": null,
            "_view_module": "@jupyter-widgets/controls",
            "_view_module_version": "1.5.0",
            "_view_name": "HTMLView",
            "description": "",
            "description_tooltip": null,
            "layout": "IPY_MODEL_d4c8af65f3504086a74c6e80c9b46f57",
            "placeholder": "​",
            "style": "IPY_MODEL_0e47d06ca85a44bb8eed878d53946cd4",
            "value": " 100/100 [00:07&lt;00:00, 15.77it/s]"
          }
        },
        "bd37c791b9604a5d82c5453eca276ac8": {
          "model_module": "@jupyter-widgets/base",
          "model_name": "LayoutModel",
          "model_module_version": "1.2.0",
          "state": {
            "_model_module": "@jupyter-widgets/base",
            "_model_module_version": "1.2.0",
            "_model_name": "LayoutModel",
            "_view_count": null,
            "_view_module": "@jupyter-widgets/base",
            "_view_module_version": "1.2.0",
            "_view_name": "LayoutView",
            "align_content": null,
            "align_items": null,
            "align_self": null,
            "border": null,
            "bottom": null,
            "display": null,
            "flex": null,
            "flex_flow": null,
            "grid_area": null,
            "grid_auto_columns": null,
            "grid_auto_flow": null,
            "grid_auto_rows": null,
            "grid_column": null,
            "grid_gap": null,
            "grid_row": null,
            "grid_template_areas": null,
            "grid_template_columns": null,
            "grid_template_rows": null,
            "height": null,
            "justify_content": null,
            "justify_items": null,
            "left": null,
            "margin": null,
            "max_height": null,
            "max_width": null,
            "min_height": null,
            "min_width": null,
            "object_fit": null,
            "object_position": null,
            "order": null,
            "overflow": null,
            "overflow_x": null,
            "overflow_y": null,
            "padding": null,
            "right": null,
            "top": null,
            "visibility": null,
            "width": null
          }
        },
        "c1e952fb594c44d19338a1413dd9afc6": {
          "model_module": "@jupyter-widgets/base",
          "model_name": "LayoutModel",
          "model_module_version": "1.2.0",
          "state": {
            "_model_module": "@jupyter-widgets/base",
            "_model_module_version": "1.2.0",
            "_model_name": "LayoutModel",
            "_view_count": null,
            "_view_module": "@jupyter-widgets/base",
            "_view_module_version": "1.2.0",
            "_view_name": "LayoutView",
            "align_content": null,
            "align_items": null,
            "align_self": null,
            "border": null,
            "bottom": null,
            "display": null,
            "flex": null,
            "flex_flow": null,
            "grid_area": null,
            "grid_auto_columns": null,
            "grid_auto_flow": null,
            "grid_auto_rows": null,
            "grid_column": null,
            "grid_gap": null,
            "grid_row": null,
            "grid_template_areas": null,
            "grid_template_columns": null,
            "grid_template_rows": null,
            "height": null,
            "justify_content": null,
            "justify_items": null,
            "left": null,
            "margin": null,
            "max_height": null,
            "max_width": null,
            "min_height": null,
            "min_width": null,
            "object_fit": null,
            "object_position": null,
            "order": null,
            "overflow": null,
            "overflow_x": null,
            "overflow_y": null,
            "padding": null,
            "right": null,
            "top": null,
            "visibility": null,
            "width": null
          }
        },
        "086b8d4cd66f4ff9a8af044211d0c3a9": {
          "model_module": "@jupyter-widgets/controls",
          "model_name": "DescriptionStyleModel",
          "model_module_version": "1.5.0",
          "state": {
            "_model_module": "@jupyter-widgets/controls",
            "_model_module_version": "1.5.0",
            "_model_name": "DescriptionStyleModel",
            "_view_count": null,
            "_view_module": "@jupyter-widgets/base",
            "_view_module_version": "1.2.0",
            "_view_name": "StyleView",
            "description_width": ""
          }
        },
        "4b405d625e97405880b858615d8c4ee2": {
          "model_module": "@jupyter-widgets/base",
          "model_name": "LayoutModel",
          "model_module_version": "1.2.0",
          "state": {
            "_model_module": "@jupyter-widgets/base",
            "_model_module_version": "1.2.0",
            "_model_name": "LayoutModel",
            "_view_count": null,
            "_view_module": "@jupyter-widgets/base",
            "_view_module_version": "1.2.0",
            "_view_name": "LayoutView",
            "align_content": null,
            "align_items": null,
            "align_self": null,
            "border": null,
            "bottom": null,
            "display": null,
            "flex": null,
            "flex_flow": null,
            "grid_area": null,
            "grid_auto_columns": null,
            "grid_auto_flow": null,
            "grid_auto_rows": null,
            "grid_column": null,
            "grid_gap": null,
            "grid_row": null,
            "grid_template_areas": null,
            "grid_template_columns": null,
            "grid_template_rows": null,
            "height": null,
            "justify_content": null,
            "justify_items": null,
            "left": null,
            "margin": null,
            "max_height": null,
            "max_width": null,
            "min_height": null,
            "min_width": null,
            "object_fit": null,
            "object_position": null,
            "order": null,
            "overflow": null,
            "overflow_x": null,
            "overflow_y": null,
            "padding": null,
            "right": null,
            "top": null,
            "visibility": null,
            "width": null
          }
        },
        "eb376ba699d14ee8b583a6af1b06e2fd": {
          "model_module": "@jupyter-widgets/controls",
          "model_name": "ProgressStyleModel",
          "model_module_version": "1.5.0",
          "state": {
            "_model_module": "@jupyter-widgets/controls",
            "_model_module_version": "1.5.0",
            "_model_name": "ProgressStyleModel",
            "_view_count": null,
            "_view_module": "@jupyter-widgets/base",
            "_view_module_version": "1.2.0",
            "_view_name": "StyleView",
            "bar_color": null,
            "description_width": ""
          }
        },
        "d4c8af65f3504086a74c6e80c9b46f57": {
          "model_module": "@jupyter-widgets/base",
          "model_name": "LayoutModel",
          "model_module_version": "1.2.0",
          "state": {
            "_model_module": "@jupyter-widgets/base",
            "_model_module_version": "1.2.0",
            "_model_name": "LayoutModel",
            "_view_count": null,
            "_view_module": "@jupyter-widgets/base",
            "_view_module_version": "1.2.0",
            "_view_name": "LayoutView",
            "align_content": null,
            "align_items": null,
            "align_self": null,
            "border": null,
            "bottom": null,
            "display": null,
            "flex": null,
            "flex_flow": null,
            "grid_area": null,
            "grid_auto_columns": null,
            "grid_auto_flow": null,
            "grid_auto_rows": null,
            "grid_column": null,
            "grid_gap": null,
            "grid_row": null,
            "grid_template_areas": null,
            "grid_template_columns": null,
            "grid_template_rows": null,
            "height": null,
            "justify_content": null,
            "justify_items": null,
            "left": null,
            "margin": null,
            "max_height": null,
            "max_width": null,
            "min_height": null,
            "min_width": null,
            "object_fit": null,
            "object_position": null,
            "order": null,
            "overflow": null,
            "overflow_x": null,
            "overflow_y": null,
            "padding": null,
            "right": null,
            "top": null,
            "visibility": null,
            "width": null
          }
        },
        "0e47d06ca85a44bb8eed878d53946cd4": {
          "model_module": "@jupyter-widgets/controls",
          "model_name": "DescriptionStyleModel",
          "model_module_version": "1.5.0",
          "state": {
            "_model_module": "@jupyter-widgets/controls",
            "_model_module_version": "1.5.0",
            "_model_name": "DescriptionStyleModel",
            "_view_count": null,
            "_view_module": "@jupyter-widgets/base",
            "_view_module_version": "1.2.0",
            "_view_name": "StyleView",
            "description_width": ""
          }
        }
      }
    }
  },
  "cells": [
    {
      "cell_type": "code",
      "execution_count": null,
      "metadata": {
        "id": "p_fBzOXwcRIx"
      },
      "outputs": [],
      "source": [
        "import torch\n",
        "from torch import nn\n",
        "\n",
        "import torchvision\n",
        "from torchvision import datasets\n",
        "from torchvision.transforms import ToTensor\n",
        "\n",
        "import matplotlib.pyplot as plt"
      ]
    },
    {
      "cell_type": "markdown",
      "source": [],
      "metadata": {
        "id": "ure_tJVCxyNV"
      }
    },
    {
      "cell_type": "code",
      "source": [],
      "metadata": {
        "id": "CQcdS2_Fchej"
      },
      "execution_count": null,
      "outputs": []
    },
    {
      "cell_type": "markdown",
      "source": [
        "# Generating Synthetic data to using a function"
      ],
      "metadata": {
        "id": "1jPbCUtsctdD"
      }
    },
    {
      "cell_type": "code",
      "source": [
        "def basic_math(x):\n",
        "\n",
        "    return x**2 + 5*x - 13\n",
        "\n",
        "\n",
        "x_input = torch.arange(-50, 50, step = 0.1)\n",
        "noise_vector = torch.randn(len(x_input)) * 0.01\n",
        "y_out = x_input.clone().apply_(basic_math) + noise_vector"
      ],
      "metadata": {
        "id": "Ow5G4HvqcijL"
      },
      "execution_count": null,
      "outputs": []
    },
    {
      "cell_type": "code",
      "source": [],
      "metadata": {
        "id": "vvpXoIdecinm"
      },
      "execution_count": null,
      "outputs": []
    },
    {
      "cell_type": "markdown",
      "source": [
        "# Plotting the Original Function"
      ],
      "metadata": {
        "id": "PY-TLiRKc1xH"
      }
    },
    {
      "cell_type": "code",
      "source": [
        "import matplotlib.pyplot as plt\n",
        "\n",
        "def plot_x_y(x, y):\n",
        "    \"\"\"\n",
        "    Plots x and y using matplotlib.\n",
        "\n",
        "    Args:\n",
        "        x: A list of x-axis values.\n",
        "        y: A list of y-axis values.\n",
        "    \"\"\"\n",
        "    plt.plot(x, y)\n",
        "    plt.xlabel(\"X\")\n",
        "    plt.ylabel(\"Y\")\n",
        "    plt.grid()\n",
        "    plt.show()\n",
        "\n",
        "plot_x_y(x_input, y_out)\n"
      ],
      "metadata": {
        "colab": {
          "base_uri": "https://localhost:8080/",
          "height": 449
        },
        "id": "GaBzBOzJciq-",
        "outputId": "ecd0969e-2ad8-484d-f2e4-804dc643f136"
      },
      "execution_count": null,
      "outputs": [
        {
          "output_type": "display_data",
          "data": {
            "text/plain": [
              "<Figure size 640x480 with 1 Axes>"
            ],
            "image/png": "[encoded data removed]"
          },
          "metadata": {}
        }
      ]
    },
    {
      "cell_type": "code",
      "source": [],
      "metadata": {
        "id": "ayj90JU5ciuz"
      },
      "execution_count": null,
      "outputs": []
    },
    {
      "cell_type": "markdown",
      "source": [
        "# Performing Train-Test Split"
      ],
      "metadata": {
        "id": "3qSSWgDVc6gq"
      }
    },
    {
      "cell_type": "code",
      "source": [
        "from sklearn.model_selection import train_test_split\n",
        "\n",
        "test_x, train_x, test_y, train_y = train_test_split(x_input, y_out, test_size = 0.8)\n",
        "\n",
        "print(train_x.shape, train_y.shape)"
      ],
      "metadata": {
        "colab": {
          "base_uri": "https://localhost:8080/"
        },
        "id": "6OmYFAM0ciyG",
        "outputId": "fe80da06-a039-4d4d-dd19-a0edc4734f48"
      },
      "execution_count": null,
      "outputs": [
        {
          "output_type": "stream",
          "name": "stdout",
          "text": [
            "torch.Size([800]) torch.Size([800])\n"
          ]
        }
      ]
    },
    {
      "cell_type": "code",
      "source": [],
      "metadata": {
        "id": "Z_MYnfOmci1Q"
      },
      "execution_count": null,
      "outputs": []
    },
    {
      "cell_type": "markdown",
      "source": [
        "## Dataset Preparation for DataLoader consumption\n",
        "## Using Dataloader to break the dataset into batches"
      ],
      "metadata": {
        "id": "guZVEgFFdXUt"
      }
    },
    {
      "cell_type": "code",
      "source": [
        "print(f\"Original shape: train_x: {train_x.shape}, train_y: {train_y.shape}, test_x : {test_x.shape}, test_y: {test_y.shape}\")\n",
        "\n",
        "train_x = train_x.unsqueeze(dim = 1)\n",
        "test_x = test_x.unsqueeze(dim = 1)\n",
        "\n",
        "train_y = train_y.unsqueeze(dim = 1)\n",
        "test_y = test_y.unsqueeze(dim = 1)\n",
        "\n",
        "print(f\"Modified shape: train_x: {train_x.shape}, train_y: {train_y.shape}, test_x : {test_x.shape}, test_y: {test_y.shape}\")"
      ],
      "metadata": {
        "colab": {
          "base_uri": "https://localhost:8080/"
        },
        "id": "43toYQD9c6-V",
        "outputId": "fe02a7df-a3f0-45b2-f6b4-47f88647fbcd"
      },
      "execution_count": null,
      "outputs": [
        {
          "output_type": "stream",
          "name": "stdout",
          "text": [
            "Original shape: train_x: torch.Size([800]), train_y: torch.Size([800]), test_x : torch.Size([200]), test_y: torch.Size([200])\n",
            "Modified shape: train_x: torch.Size([800, 1]), train_y: torch.Size([800, 1]), test_x : torch.Size([200, 1]), test_y: torch.Size([200, 1])\n"
          ]
        }
      ]
    },
    {
      "cell_type": "code",
      "source": [],
      "metadata": {
        "id": "pCRtQQsIc7C_"
      },
      "execution_count": null,
      "outputs": []
    },
    {
      "cell_type": "markdown",
      "source": [
        "# Constructing a dataset class to be consumed by the DataLoader object\n",
        "`this was recommended but is not mandatory`\n",
        "\n"
      ],
      "metadata": {
        "id": "1PurMJSQekmF"
      }
    },
    {
      "cell_type": "code",
      "source": [
        "from torch.utils.data import Dataset\n",
        "from typing import Union\n",
        "\n",
        "class CustomDatasetCreator(Dataset):\n",
        "\n",
        "    def __init__(self, X: torch.tensor, y: torch.tensor):\n",
        "        self.data = X\n",
        "        self.labels = y\n",
        "\n",
        "    def __len__(self):\n",
        "        return len(self.data)\n",
        "\n",
        "    def __getitem__(self, idx):\n",
        "        sample = self.data[idx]\n",
        "        label = self.labels[idx]\n",
        "        return sample, label\n",
        "\n",
        "\n",
        "m_train_dataset = CustomDatasetCreator(train_x, train_y)\n",
        "m_test_dataset = CustomDatasetCreator(test_x, test_y)"
      ],
      "metadata": {
        "id": "PTgvpEfsc7Gz"
      },
      "execution_count": null,
      "outputs": []
    },
    {
      "cell_type": "code",
      "source": [],
      "metadata": {
        "id": "aTpvenNjc7J8"
      },
      "execution_count": null,
      "outputs": []
    },
    {
      "cell_type": "code",
      "source": [
        "from torch.utils.data import DataLoader"
      ],
      "metadata": {
        "id": "8U7Q8B7Jc7NY"
      },
      "execution_count": null,
      "outputs": []
    },
    {
      "cell_type": "code",
      "source": [
        "m_BATCH_SIZE = 32\n",
        "\n",
        "\n",
        "m_train_dtl = DataLoader(m_train_dataset, batch_size = m_BATCH_SIZE, shuffle = True)\n",
        "m_test_dtl = DataLoader(m_test_dataset, batch_size = m_BATCH_SIZE, shuffle = False)\n",
        "\n"
      ],
      "metadata": {
        "id": "Jbx42KxeevMA"
      },
      "execution_count": null,
      "outputs": []
    },
    {
      "cell_type": "code",
      "source": [],
      "metadata": {
        "id": "pK1bijcmevP0"
      },
      "execution_count": null,
      "outputs": []
    },
    {
      "cell_type": "markdown",
      "source": [
        "## Creating Basic Benchmarking NN structure to test"
      ],
      "metadata": {
        "id": "rt0jJSZBfKU3"
      }
    },
    {
      "cell_type": "code",
      "source": [
        "class MathMapperV1(nn.Module):\n",
        "\n",
        "    def __init__(self, input_shape: int,\n",
        "                 hidden_1: int,\n",
        "                 hidden_2: int,\n",
        "                 hidden_3: int,\n",
        "                 output_shape: int):\n",
        "        super().__init__()\n",
        "        self.layer_stack = nn.Sequential(\n",
        "            nn.Linear(in_features = input_shape, out_features = hidden_1),\n",
        "            nn.ReLU(),\n",
        "            nn.Linear(in_features = hidden_1, out_features = hidden_2),\n",
        "            nn.ReLU(),\n",
        "            nn.Linear(in_features = hidden_2, out_features = hidden_3),\n",
        "            nn.ReLU(),\n",
        "            nn.Linear(in_features = hidden_3, out_features = output_shape)\n",
        "        )\n",
        "\n",
        "    def forward(self, x):\n",
        "        return self.layer_stack(x)\n",
        "\n",
        "mt_model_1 = MathMapperV1(1, 10, 30, 12, 1)\n",
        "\n",
        "mt_model_1"
      ],
      "metadata": {
        "colab": {
          "base_uri": "https://localhost:8080/"
        },
        "id": "reLwVBesevTP",
        "outputId": "437b159d-e2d1-4eb2-b252-269ae049c3e6"
      },
      "execution_count": null,
      "outputs": [
        {
          "output_type": "execute_result",
          "data": {
            "text/plain": [
              "MathMapperV1(\n",
              "  (layer_stack): Sequential(\n",
              "    (0): Linear(in_features=1, out_features=10, bias=True)\n",
              "    (1): ReLU()\n",
              "    (2): Linear(in_features=10, out_features=30, bias=True)\n",
              "    (3): ReLU()\n",
              "    (4): Linear(in_features=30, out_features=12, bias=True)\n",
              "    (5): ReLU()\n",
              "    (6): Linear(in_features=12, out_features=1, bias=True)\n",
              "  )\n",
              ")"
            ]
          },
          "metadata": {},
          "execution_count": 60
        }
      ]
    },
    {
      "cell_type": "code",
      "source": [],
      "metadata": {
        "id": "ucxFgW9hevWj"
      },
      "execution_count": null,
      "outputs": []
    },
    {
      "cell_type": "markdown",
      "source": [
        "## setting the agnostic cuda object"
      ],
      "metadata": {
        "id": "u7WAz9JPfUKp"
      }
    },
    {
      "cell_type": "code",
      "source": [
        "def compute_object():\n",
        "    device = 'cuda' if torch.cuda.is_available() else 'cpu'\n",
        "    return device\n",
        "\n",
        "device = compute_object()\n",
        "\n",
        "print(device)"
      ],
      "metadata": {
        "colab": {
          "base_uri": "https://localhost:8080/"
        },
        "id": "lAAXJZQQevZt",
        "outputId": "d47e6c60-d5d6-4d93-87bf-5e9ec4d7b13a"
      },
      "execution_count": null,
      "outputs": [
        {
          "output_type": "stream",
          "name": "stdout",
          "text": [
            "cpu\n"
          ]
        }
      ]
    },
    {
      "cell_type": "code",
      "source": [],
      "metadata": {
        "id": "DQLB5BGbevck"
      },
      "execution_count": null,
      "outputs": []
    },
    {
      "cell_type": "markdown",
      "source": [
        "## Defining my loss function and optimizer"
      ],
      "metadata": {
        "id": "S4hJPcEIfrGX"
      }
    },
    {
      "cell_type": "code",
      "source": [
        "import torch\n",
        "from torch import nn\n",
        "from torch.optim import Adam\n",
        "\n",
        "m_loss_fn = nn.MSELoss()\n",
        "m_optimizer = Adam(mt_model_1.parameters(), lr = 0.01)\n",
        "\n",
        "print(\"Loss function object created\")\n",
        "print()\n",
        "print(f\"Optimizer allocated to parameters: {mt_model_1} \\n\")\n"
      ],
      "metadata": {
        "colab": {
          "base_uri": "https://localhost:8080/"
        },
        "id": "s0DYksb3c7Q7",
        "outputId": "a377faa6-7137-4458-f2b8-d83e968ac2e3"
      },
      "execution_count": null,
      "outputs": [
        {
          "output_type": "stream",
          "name": "stdout",
          "text": [
            "Loss function object created\n",
            "\n",
            "Optimizer allocated to parameters: MathMapperV1(\n",
            "  (layer_stack): Sequential(\n",
            "    (0): Linear(in_features=1, out_features=10, bias=True)\n",
            "    (1): ReLU()\n",
            "    (2): Linear(in_features=10, out_features=30, bias=True)\n",
            "    (3): ReLU()\n",
            "    (4): Linear(in_features=30, out_features=12, bias=True)\n",
            "    (5): ReLU()\n",
            "    (6): Linear(in_features=12, out_features=1, bias=True)\n",
            "  )\n",
            ") \n",
            "\n"
          ]
        }
      ]
    },
    {
      "cell_type": "code",
      "source": [],
      "metadata": {
        "id": "52URrxUkgo94"
      },
      "execution_count": null,
      "outputs": []
    },
    {
      "cell_type": "markdown",
      "source": [
        "## Testing the Input, Output shapes of the Tensor going into the NN as input, prediction output from the NN, and chosen compute device"
      ],
      "metadata": {
        "id": "PtCFMAS-g2Cr"
      }
    },
    {
      "cell_type": "code",
      "source": [
        "print(\"Input shape: \", next(iter(m_train_dtl))[0].shape)\n",
        "print(\"Prediction shape: \", mt_model_1(next(iter(m_train_dtl))[0]).shape)\n"
      ],
      "metadata": {
        "colab": {
          "base_uri": "https://localhost:8080/"
        },
        "id": "fS6L2N2AgpCF",
        "outputId": "0c2ac14c-2482-4780-b808-06166040261d"
      },
      "execution_count": null,
      "outputs": [
        {
          "output_type": "stream",
          "name": "stdout",
          "text": [
            "Input shape:  torch.Size([32, 1])\n",
            "Prediction shape:  torch.Size([32, 1])\n"
          ]
        }
      ]
    },
    {
      "cell_type": "markdown",
      "source": [
        "## Defining Regression error metrics"
      ],
      "metadata": {
        "id": "_a6M7s6hmOFl"
      }
    },
    {
      "cell_type": "code",
      "source": [
        "def mean_squared_error(y_pred: torch.tensor, y_true: torch.tensor):\n",
        "\n",
        "    return torch.mean(torch.tensor((y_pred - y_true)**2, dtype = torch.float32))\n",
        "\n",
        "\n",
        "def r2_score_reg(y_pred: torch.tensor, y_true: torch.tensor):\n",
        "\n",
        "    ss_res = torch.sum(torch.tensor((y_true - y_pred) ** 2, dtype = torch.float32))\n",
        "    y_mean = torch.mean(y_true)\n",
        "    ss_tot = torch.sum((y_true - y_mean) ** 2)\n",
        "\n",
        "    r2_score = (1 - (ss_res/ss_tot))\n",
        "\n",
        "    out_dict = {\"ss_res\": ss_res,\n",
        "                \"y_mean\" : y_mean,\n",
        "                \"ss_tot\": ss_tot,\n",
        "                \"r2_score\": r2_score}\n",
        "\n",
        "    return out_dict"
      ],
      "metadata": {
        "id": "boxfkfBCgpFz"
      },
      "execution_count": null,
      "outputs": []
    },
    {
      "cell_type": "code",
      "source": [],
      "metadata": {
        "id": "6tY7hmLWmVmU"
      },
      "execution_count": null,
      "outputs": []
    },
    {
      "cell_type": "markdown",
      "source": [
        "### Running the Training the the test loop"
      ],
      "metadata": {
        "id": "80384WWyma8T"
      }
    },
    {
      "cell_type": "markdown",
      "source": [
        "### Creating a dictionary to track the progress of the learning through the epochs\n",
        "\n",
        "`Will be use this to plot it later`"
      ],
      "metadata": {
        "id": "70X_bt2xvub_"
      }
    },
    {
      "cell_type": "code",
      "source": [
        "learning_tracker = {}"
      ],
      "metadata": {
        "id": "tOWVjWiQvscp"
      },
      "execution_count": null,
      "outputs": []
    },
    {
      "cell_type": "code",
      "source": [
        "from tqdm.auto import tqdm\n",
        "from timeit import default_timer\n",
        "#from torcheval.metrics import MeanSquaredError as MSE\n",
        "\n",
        "torch.manual_seed(40)\n",
        "\n",
        "\n",
        "\n",
        "start_time = default_timer()\n",
        "\n",
        "epochs = 100\n",
        "\n",
        "\n",
        "for epoch in tqdm(range(epochs)):\n",
        "\n",
        "    print(f\"Current Epoch: {epoch} \\n\")\n",
        "\n",
        "    train_loss = 0\n",
        "\n",
        "    for batch, (X, y) in enumerate(m_train_dtl):\n",
        "\n",
        "        mt_model_1.train()\n",
        "\n",
        "        ## forward pass\n",
        "        y_preds = mt_model_1(X)\n",
        "\n",
        "        ## Calculating the loss for the batch\n",
        "        loss = m_loss_fn(y_preds, y)\n",
        "        train_loss += loss\n",
        "\n",
        "        ## Backward Pass\n",
        "        m_optimizer.zero_grad()\n",
        "        loss.backward()\n",
        "        m_optimizer.step()\n",
        "\n",
        "        ## training progress\n",
        "        if batch % 10 == 0:\n",
        "            print(f\"Epoch: {epoch+1}, Loss: {loss.item(): .4f}\")\n",
        "\n",
        "    train_loss /= len(m_train_dtl)\n",
        "\n",
        "    if (epoch+1)%25 == 0:\n",
        "        learning_tracker['epoch_'+str(epoch+1)] = mt_model_1(x_input.unsqueeze(dim=1)).squeeze().detach().numpy()\n",
        "\n",
        "    ## Testing step\n",
        "\n",
        "    test_loss, mse_error = 0, 0\n",
        "    r2_score = 0\n",
        "\n",
        "    mt_model_1.eval()\n",
        "\n",
        "    with torch.inference_mode():\n",
        "\n",
        "        test_loss = 0\n",
        "\n",
        "        for X, y in m_test_dtl:\n",
        "\n",
        "            ## forward pass\n",
        "            test_pred = mt_model_1(X)\n",
        "\n",
        "            ## calculate the loss\n",
        "            test_loss += m_loss_fn(test_pred, y)\n",
        "\n",
        "            ## MSE calculation\n",
        "            mse_error += mean_squared_error(test_pred, y).item()\n",
        "            r2_score += r2_score_reg(test_pred, y)['r2_score'].item()\n",
        "\n",
        "\n",
        "        test_loss /= len(m_test_dtl)\n",
        "        mse_error /= len(m_test_dtl)\n",
        "        r2_score /= len(m_test_dtl)\n",
        "\n",
        "    print(f\"Train loss: {train_loss: .5f} | Test loss: {test_loss: .5f} \\n\")\n",
        "    print(f\"Test accuracy: {mse_error: .5f} | r2_score: {r2_score: .5f}\")\n",
        "\n",
        "\n",
        "\n",
        "end_time = default_timer()\n",
        "\n",
        "print(f\"Total run time: {end_time - start_time}\")"
      ],
      "metadata": {
        "colab": {
          "base_uri": "https://localhost:8080/",
          "height": 1000,
          "referenced_widgets": [
            "8a4c37c17d2141a3a279327844b4f9d3",
            "7e2bb7309db649d087bb890387c9a2c5",
            "96c8d0ca4c2848c694c4a6cfe5465d3c",
            "193e98e58fb84009a0f6a6d76e4262d2",
            "bd37c791b9604a5d82c5453eca276ac8",
            "c1e952fb594c44d19338a1413dd9afc6",
            "086b8d4cd66f4ff9a8af044211d0c3a9",
            "4b405d625e97405880b858615d8c4ee2",
            "eb376ba699d14ee8b583a6af1b06e2fd",
            "d4c8af65f3504086a74c6e80c9b46f57",
            "0e47d06ca85a44bb8eed878d53946cd4"
          ]
        },
        "id": "BZTusU7EmVsS",
        "outputId": "1de9e846-702a-427e-c199-ef654d28bcd5"
      },
      "execution_count": null,
      "outputs": [
        {
          "output_type": "display_data",
          "data": {
            "text/plain": [
              "  0%|          | 0/100 [00:00<?, ?it/s]"
            ],
            "application/vnd.jupyter.widget-view+json": {
              "version_major": 2,
              "version_minor": 0,
              "model_id": "8a4c37c17d2141a3a279327844b4f9d3"
            }
          },
          "metadata": {}
        },
        {
          "output_type": "stream",
          "name": "stdout",
          "text": [
            "Current Epoch: 0 \n",
            "\n",
            "Epoch: 1, Loss:  1321767.6250\n",
            "Epoch: 1, Loss:  1256254.8750\n",
            "Epoch: 1, Loss:  1267033.5000\n",
            "Train loss:  1211994.87500 | Test loss:  1182287.87500 \n",
            "\n",
            "Test accuracy:  1182287.88393 | r2_score: -0.94623\n",
            "Current Epoch: 1 \n",
            "\n",
            "Epoch: 2, Loss:  1045765.3750\n",
            "Epoch: 2, Loss:  1407925.8750\n",
            "Epoch: 2, Loss:  724566.2500\n",
            "Train loss:  879838.93750 | Test loss:  436871.65625 \n",
            "\n",
            "Test accuracy:  436871.65625 | r2_score:  0.28076\n",
            "Current Epoch: 2 \n",
            "\n",
            "Epoch: 3, Loss:  688672.3750\n",
            "Epoch: 3, Loss:  278340.0312\n",
            "Epoch: 3, Loss:  145563.2344\n",
            "Train loss:  251448.40625 | Test loss:  96457.70312 \n",
            "\n",
            "Test accuracy:  96457.71484 | r2_score:  0.83995\n",
            "Current Epoch: 3 \n",
            "\n",
            "Epoch: 4, Loss:  117597.7812\n"
          ]
        },
        {
          "output_type": "stream",
          "name": "stderr",
          "text": [
            "<ipython-input-64-842b97b099f6>:3: UserWarning: To copy construct from a tensor, it is recommended to use sourceTensor.clone().detach() or sourceTensor.clone().detach().requires_grad_(True), rather than torch.tensor(sourceTensor).\n",
            "  return torch.mean(torch.tensor((y_pred - y_true)**2, dtype = torch.float32))\n",
            "<ipython-input-64-842b97b099f6>:8: UserWarning: To copy construct from a tensor, it is recommended to use sourceTensor.clone().detach() or sourceTensor.clone().detach().requires_grad_(True), rather than torch.tensor(sourceTensor).\n",
            "  ss_res = torch.sum(torch.tensor((y_true - y_pred) ** 2, dtype = torch.float32))\n"
          ]
        },
        {
          "output_type": "stream",
          "name": "stdout",
          "text": [
            "Epoch: 4, Loss:  97136.0000\n",
            "Epoch: 4, Loss:  88770.8750\n",
            "Train loss:  92744.43750 | Test loss:  91874.77344 \n",
            "\n",
            "Test accuracy:  91874.77455 | r2_score:  0.84677\n",
            "Current Epoch: 4 \n",
            "\n",
            "Epoch: 5, Loss:  70077.7109\n",
            "Epoch: 5, Loss:  68515.1719\n",
            "Epoch: 5, Loss:  77729.2734\n",
            "Train loss:  85587.07031 | Test loss:  84886.19531 \n",
            "\n",
            "Test accuracy:  84886.19754 | r2_score:  0.85863\n",
            "Current Epoch: 5 \n",
            "\n",
            "Epoch: 6, Loss:  87924.2734\n",
            "Epoch: 6, Loss:  88943.9531\n",
            "Epoch: 6, Loss:  83571.0469\n",
            "Train loss:  83082.94531 | Test loss:  87989.26562 \n",
            "\n",
            "Test accuracy:  87989.26395 | r2_score:  0.85372\n",
            "Current Epoch: 6 \n",
            "\n",
            "Epoch: 7, Loss:  67722.2656\n",
            "Epoch: 7, Loss:  61002.4219\n",
            "Epoch: 7, Loss:  81706.3359\n",
            "Train loss:  82343.60938 | Test loss:  83482.16406 \n",
            "\n",
            "Test accuracy:  83482.16127 | r2_score:  0.86113\n",
            "Current Epoch: 7 \n",
            "\n",
            "Epoch: 8, Loss:  103295.8438\n",
            "Epoch: 8, Loss:  67310.1797\n",
            "Epoch: 8, Loss:  78542.6172\n",
            "Train loss:  80174.71875 | Test loss:  80135.23438 \n",
            "\n",
            "Test accuracy:  80135.23438 | r2_score:  0.86646\n",
            "Current Epoch: 8 \n",
            "\n",
            "Epoch: 9, Loss:  79943.1250\n",
            "Epoch: 9, Loss:  112028.9531\n",
            "Epoch: 9, Loss:  91633.2422\n",
            "Train loss:  78582.82031 | Test loss:  83075.79688 \n",
            "\n",
            "Test accuracy:  83075.79241 | r2_score:  0.86197\n",
            "Current Epoch: 9 \n",
            "\n",
            "Epoch: 10, Loss:  91546.7188\n",
            "Epoch: 10, Loss:  95908.8672\n",
            "Epoch: 10, Loss:  69654.6094\n",
            "Train loss:  78437.20312 | Test loss:  80476.00781 \n",
            "\n",
            "Test accuracy:  80476.01507 | r2_score:  0.86629\n",
            "Current Epoch: 10 \n",
            "\n",
            "Epoch: 11, Loss:  70230.4688\n",
            "Epoch: 11, Loss:  80787.2344\n",
            "Epoch: 11, Loss:  65266.3516\n",
            "Train loss:  76791.68750 | Test loss:  76201.35938 \n",
            "\n",
            "Test accuracy:  76201.35714 | r2_score:  0.87319\n",
            "Current Epoch: 11 \n",
            "\n",
            "Epoch: 12, Loss:  66629.1797\n",
            "Epoch: 12, Loss:  67276.7891\n",
            "Epoch: 12, Loss:  55038.5625\n",
            "Train loss:  74441.17188 | Test loss:  74940.68750 \n",
            "\n",
            "Test accuracy:  74940.68415 | r2_score:  0.87522\n",
            "Current Epoch: 12 \n",
            "\n",
            "Epoch: 13, Loss:  71023.2656\n",
            "Epoch: 13, Loss:  70777.2969\n",
            "Epoch: 13, Loss:  68676.8516\n",
            "Train loss:  72614.74219 | Test loss:  75188.17969 \n",
            "\n",
            "Test accuracy:  75188.17801 | r2_score:  0.87519\n",
            "Current Epoch: 13 \n",
            "\n",
            "Epoch: 14, Loss:  68470.6797\n",
            "Epoch: 14, Loss:  88534.5156\n",
            "Epoch: 14, Loss:  66695.2969\n",
            "Train loss:  76367.80469 | Test loss:  78922.45312 \n",
            "\n",
            "Test accuracy:  78922.45368 | r2_score:  0.86884\n",
            "Current Epoch: 14 \n",
            "\n",
            "Epoch: 15, Loss:  102580.4141\n",
            "Epoch: 15, Loss:  84408.6406\n",
            "Epoch: 15, Loss:  61022.8008\n",
            "Train loss:  71080.85156 | Test loss:  69093.11719 \n",
            "\n",
            "Test accuracy:  69093.12556 | r2_score:  0.88508\n",
            "Current Epoch: 15 \n",
            "\n",
            "Epoch: 16, Loss:  43408.1992\n",
            "Epoch: 16, Loss:  70149.1172\n",
            "Epoch: 16, Loss:  64215.1211\n",
            "Train loss:  67857.03906 | Test loss:  70010.51562 \n",
            "\n",
            "Test accuracy:  70010.51674 | r2_score:  0.88359\n",
            "Current Epoch: 16 \n",
            "\n",
            "Epoch: 17, Loss:  72720.0781\n",
            "Epoch: 17, Loss:  57365.4922\n",
            "Epoch: 17, Loss:  58144.0781\n",
            "Train loss:  66165.88281 | Test loss:  66278.85156 \n",
            "\n",
            "Test accuracy:  66278.85491 | r2_score:  0.88995\n",
            "Current Epoch: 17 \n",
            "\n",
            "Epoch: 18, Loss:  69511.1016\n",
            "Epoch: 18, Loss:  56287.7422\n",
            "Epoch: 18, Loss:  79503.1953\n",
            "Train loss:  64661.69922 | Test loss:  62668.28516 \n",
            "\n",
            "Test accuracy:  62668.29018 | r2_score:  0.89577\n",
            "Current Epoch: 18 \n",
            "\n",
            "Epoch: 19, Loss:  57041.5742\n",
            "Epoch: 19, Loss:  60267.5781\n",
            "Epoch: 19, Loss:  54744.8320\n",
            "Train loss:  64899.63672 | Test loss:  65829.07031 \n",
            "\n",
            "Test accuracy:  65829.06920 | r2_score:  0.89077\n",
            "Current Epoch: 19 \n",
            "\n",
            "Epoch: 20, Loss:  42276.1641\n",
            "Epoch: 20, Loss:  74699.4688\n",
            "Epoch: 20, Loss:  94770.3984\n",
            "Train loss:  60730.85156 | Test loss:  62110.24219 \n",
            "\n",
            "Test accuracy:  62110.23605 | r2_score:  0.89662\n",
            "Current Epoch: 20 \n",
            "\n",
            "Epoch: 21, Loss:  62397.8438\n",
            "Epoch: 21, Loss:  59545.1367\n",
            "Epoch: 21, Loss:  71239.9219\n",
            "Train loss:  59768.78906 | Test loss:  60939.62500 \n",
            "\n",
            "Test accuracy:  60939.62277 | r2_score:  0.89870\n",
            "Current Epoch: 21 \n",
            "\n",
            "Epoch: 22, Loss:  71497.6406\n",
            "Epoch: 22, Loss:  52764.9258\n",
            "Epoch: 22, Loss:  47642.7617\n",
            "Train loss:  57443.92578 | Test loss:  55380.45703 \n",
            "\n",
            "Test accuracy:  55380.45982 | r2_score:  0.90792\n",
            "Current Epoch: 22 \n",
            "\n",
            "Epoch: 23, Loss:  44988.6484\n",
            "Epoch: 23, Loss:  50342.8125\n",
            "Epoch: 23, Loss:  50095.7188\n",
            "Train loss:  54394.48828 | Test loss:  53080.12109 \n",
            "\n",
            "Test accuracy:  53080.11970 | r2_score:  0.91192\n",
            "Current Epoch: 23 \n",
            "\n",
            "Epoch: 24, Loss:  62987.1914\n",
            "Epoch: 24, Loss:  41957.5195\n",
            "Epoch: 24, Loss:  48494.9609\n",
            "Train loss:  51938.26172 | Test loss:  48756.85547 \n",
            "\n",
            "Test accuracy:  48756.85658 | r2_score:  0.91909\n",
            "Current Epoch: 24 \n",
            "\n",
            "Epoch: 25, Loss:  56834.0625\n",
            "Epoch: 25, Loss:  44681.3594\n",
            "Epoch: 25, Loss:  38545.8008\n",
            "Train loss:  50340.76953 | Test loss:  47961.52344 \n",
            "\n",
            "Test accuracy:  47961.52176 | r2_score:  0.92062\n",
            "Current Epoch: 25 \n",
            "\n",
            "Epoch: 26, Loss:  67184.7344\n",
            "Epoch: 26, Loss:  43152.6992\n",
            "Epoch: 26, Loss:  29626.6016\n",
            "Train loss:  44699.53906 | Test loss:  47048.64453 \n",
            "\n",
            "Test accuracy:  47048.63783 | r2_score:  0.92219\n",
            "Current Epoch: 26 \n",
            "\n",
            "Epoch: 27, Loss:  59264.3711\n",
            "Epoch: 27, Loss:  47416.8711\n",
            "Epoch: 27, Loss:  35014.1133\n",
            "Train loss:  46265.69531 | Test loss:  43269.67969 \n",
            "\n",
            "Test accuracy:  43269.68359 | r2_score:  0.92804\n",
            "Current Epoch: 27 \n",
            "\n",
            "Epoch: 28, Loss:  38737.5859\n",
            "Epoch: 28, Loss:  23894.0137\n",
            "Epoch: 28, Loss:  30367.8125\n",
            "Train loss:  37167.61328 | Test loss:  40776.51953 \n",
            "\n",
            "Test accuracy:  40776.52065 | r2_score:  0.93244\n",
            "Current Epoch: 28 \n",
            "\n",
            "Epoch: 29, Loss:  36163.7500\n",
            "Epoch: 29, Loss:  28355.8652\n",
            "Epoch: 29, Loss:  26067.4883\n",
            "Train loss:  33942.44922 | Test loss:  38507.83984 \n",
            "\n",
            "Test accuracy:  38507.83761 | r2_score:  0.93586\n",
            "Current Epoch: 29 \n",
            "\n",
            "Epoch: 30, Loss:  43987.6719\n",
            "Epoch: 30, Loss:  40005.9688\n",
            "Epoch: 30, Loss:  32144.3223\n",
            "Train loss:  33509.21094 | Test loss:  31412.69922 \n",
            "\n",
            "Test accuracy:  31412.69866 | r2_score:  0.94794\n",
            "Current Epoch: 30 \n",
            "\n",
            "Epoch: 31, Loss:  29204.2031\n",
            "Epoch: 31, Loss:  20111.4395\n",
            "Epoch: 31, Loss:  22638.1523\n",
            "Train loss:  30807.45312 | Test loss:  28669.64648 \n",
            "\n",
            "Test accuracy:  28669.64816 | r2_score:  0.95227\n",
            "Current Epoch: 31 \n",
            "\n",
            "Epoch: 32, Loss:  30811.9258\n",
            "Epoch: 32, Loss:  26918.4688\n",
            "Epoch: 32, Loss:  20249.9941\n",
            "Train loss:  30518.81250 | Test loss:  29284.59375 \n",
            "\n",
            "Test accuracy:  29284.59515 | r2_score:  0.95140\n",
            "Current Epoch: 32 \n",
            "\n",
            "Epoch: 33, Loss:  32648.9004\n",
            "Epoch: 33, Loss:  31387.7246\n",
            "Epoch: 33, Loss:  21001.1602\n",
            "Train loss:  27317.08008 | Test loss:  25733.59961 \n",
            "\n",
            "Test accuracy:  25733.59961 | r2_score:  0.95708\n",
            "Current Epoch: 33 \n",
            "\n",
            "Epoch: 34, Loss:  28574.0879\n",
            "Epoch: 34, Loss:  28163.4199\n",
            "Epoch: 34, Loss:  30798.6797\n",
            "Train loss:  26051.29492 | Test loss:  23862.76367 \n",
            "\n",
            "Test accuracy:  23862.76423 | r2_score:  0.96026\n",
            "Current Epoch: 34 \n",
            "\n",
            "Epoch: 35, Loss:  27341.8887\n",
            "Epoch: 35, Loss:  27373.9141\n",
            "Epoch: 35, Loss:  30128.5117\n",
            "Train loss:  24954.80273 | Test loss:  24474.88086 \n",
            "\n",
            "Test accuracy:  24474.88058 | r2_score:  0.95914\n",
            "Current Epoch: 35 \n",
            "\n",
            "Epoch: 36, Loss:  25264.7812\n",
            "Epoch: 36, Loss:  30788.8145\n",
            "Epoch: 36, Loss:  19891.7266\n",
            "Train loss:  24350.81445 | Test loss:  22986.48633 \n",
            "\n",
            "Test accuracy:  22986.48521 | r2_score:  0.96171\n",
            "Current Epoch: 36 \n",
            "\n",
            "Epoch: 37, Loss:  27576.3789\n",
            "Epoch: 37, Loss:  28902.5254\n",
            "Epoch: 37, Loss:  20291.7930\n",
            "Train loss:  23010.35938 | Test loss:  19784.32617 \n",
            "\n",
            "Test accuracy:  19784.32520 | r2_score:  0.96705\n",
            "Current Epoch: 37 \n",
            "\n",
            "Epoch: 38, Loss:  17384.5254\n",
            "Epoch: 38, Loss:  17201.5352\n",
            "Epoch: 38, Loss:  32326.7051\n",
            "Train loss:  19828.47656 | Test loss:  17495.24414 \n",
            "\n",
            "Test accuracy:  17495.24386 | r2_score:  0.97092\n",
            "Current Epoch: 38 \n",
            "\n",
            "Epoch: 39, Loss:  12898.7441\n",
            "Epoch: 39, Loss:  13195.9512\n",
            "Epoch: 39, Loss:  10789.6523\n",
            "Train loss:  16236.11328 | Test loss:  12155.62402 \n",
            "\n",
            "Test accuracy:  12155.62354 | r2_score:  0.97984\n",
            "Current Epoch: 39 \n",
            "\n",
            "Epoch: 40, Loss:  15821.4600\n",
            "Epoch: 40, Loss:  8961.3633\n",
            "Epoch: 40, Loss:  16500.5605\n",
            "Train loss:  12832.53516 | Test loss:  9311.22070 \n",
            "\n",
            "Test accuracy:  9311.22116 | r2_score:  0.98459\n",
            "Current Epoch: 40 \n",
            "\n",
            "Epoch: 41, Loss:  5321.4277\n",
            "Epoch: 41, Loss:  11546.5752\n",
            "Epoch: 41, Loss:  8728.8066\n",
            "Train loss:  9528.65332 | Test loss:  7358.81201 \n",
            "\n",
            "Test accuracy:  7358.81149 | r2_score:  0.98782\n",
            "Current Epoch: 41 \n",
            "\n",
            "Epoch: 42, Loss:  14751.6172\n",
            "Epoch: 42, Loss:  8540.4619\n",
            "Epoch: 42, Loss:  9040.7900\n",
            "Train loss:  8516.09863 | Test loss:  6313.85693 \n",
            "\n",
            "Test accuracy:  6313.85683 | r2_score:  0.98955\n",
            "Current Epoch: 42 \n",
            "\n",
            "Epoch: 43, Loss:  4588.5176\n",
            "Epoch: 43, Loss:  7284.1533\n",
            "Epoch: 43, Loss:  6215.2520\n",
            "Train loss:  6382.09814 | Test loss:  6868.79346 \n",
            "\n",
            "Test accuracy:  6868.79381 | r2_score:  0.98870\n",
            "Current Epoch: 43 \n",
            "\n",
            "Epoch: 44, Loss:  9237.6836\n",
            "Epoch: 44, Loss:  4423.8086\n",
            "Epoch: 44, Loss:  5521.2817\n",
            "Train loss:  7798.37939 | Test loss:  5773.79053 \n",
            "\n",
            "Test accuracy:  5773.79035 | r2_score:  0.99045\n",
            "Current Epoch: 44 \n",
            "\n",
            "Epoch: 45, Loss:  3012.8125\n",
            "Epoch: 45, Loss:  4452.8379\n",
            "Epoch: 45, Loss:  4459.7310\n",
            "Train loss:  4856.68018 | Test loss:  4897.84375 \n",
            "\n",
            "Test accuracy:  4897.84368 | r2_score:  0.99192\n",
            "Current Epoch: 45 \n",
            "\n",
            "Epoch: 46, Loss:  3233.6575\n",
            "Epoch: 46, Loss:  4516.2139\n",
            "Epoch: 46, Loss:  3196.7920\n",
            "Train loss:  3823.87866 | Test loss:  3169.36377 \n",
            "\n",
            "Test accuracy:  3169.36377 | r2_score:  0.99475\n",
            "Current Epoch: 46 \n",
            "\n",
            "Epoch: 47, Loss:  4483.4331\n",
            "Epoch: 47, Loss:  5853.1514\n",
            "Epoch: 47, Loss:  2790.2681\n",
            "Train loss:  3540.44775 | Test loss:  2935.90039 \n",
            "\n",
            "Test accuracy:  2935.90027 | r2_score:  0.99517\n",
            "Current Epoch: 47 \n",
            "\n",
            "Epoch: 48, Loss:  3307.9719\n",
            "Epoch: 48, Loss:  6122.3237\n",
            "Epoch: 48, Loss:  2486.2092\n",
            "Train loss:  3321.23071 | Test loss:  2643.01538 \n",
            "\n",
            "Test accuracy:  2643.01552 | r2_score:  0.99564\n",
            "Current Epoch: 48 \n",
            "\n",
            "Epoch: 49, Loss:  3834.0710\n",
            "Epoch: 49, Loss:  5343.7236\n",
            "Epoch: 49, Loss:  2238.0898\n",
            "Train loss:  3433.96899 | Test loss:  1935.40747 \n",
            "\n",
            "Test accuracy:  1935.40741 | r2_score:  0.99682\n",
            "Current Epoch: 49 \n",
            "\n",
            "Epoch: 50, Loss:  2266.0625\n",
            "Epoch: 50, Loss:  2677.1523\n",
            "Epoch: 50, Loss:  1428.4471\n",
            "Train loss:  2219.95215 | Test loss:  1591.68274 \n",
            "\n",
            "Test accuracy:  1591.68287 | r2_score:  0.99737\n",
            "Current Epoch: 50 \n",
            "\n",
            "Epoch: 51, Loss:  1275.7382\n",
            "Epoch: 51, Loss:  1841.5298\n",
            "Epoch: 51, Loss:  787.1707\n",
            "Train loss:  1831.61279 | Test loss:  1327.62146 \n",
            "\n",
            "Test accuracy:  1327.62149 | r2_score:  0.99781\n",
            "Current Epoch: 51 \n",
            "\n",
            "Epoch: 52, Loss:  1361.7034\n",
            "Epoch: 52, Loss:  1720.3412\n",
            "Epoch: 52, Loss:  1782.7124\n",
            "Train loss:  1752.01318 | Test loss:  1620.58276 \n",
            "\n",
            "Test accuracy:  1620.58263 | r2_score:  0.99732\n",
            "Current Epoch: 52 \n",
            "\n",
            "Epoch: 53, Loss:  1139.3301\n",
            "Epoch: 53, Loss:  2086.8943\n",
            "Epoch: 53, Loss:  1002.0682\n",
            "Train loss:  1436.58972 | Test loss:  1124.84070 \n",
            "\n",
            "Test accuracy:  1124.84065 | r2_score:  0.99814\n",
            "Current Epoch: 53 \n",
            "\n",
            "Epoch: 54, Loss:  1016.9170\n",
            "Epoch: 54, Loss:  729.1066\n",
            "Epoch: 54, Loss:  1373.7363\n",
            "Train loss:  1196.44617 | Test loss:  1334.03906 \n",
            "\n",
            "Test accuracy:  1334.03911 | r2_score:  0.99780\n",
            "Current Epoch: 54 \n",
            "\n",
            "Epoch: 55, Loss:  1359.2538\n",
            "Epoch: 55, Loss:  883.4411\n",
            "Epoch: 55, Loss:  2041.3341\n",
            "Train loss:  1173.37683 | Test loss:  1040.51086 \n",
            "\n",
            "Test accuracy:  1040.51087 | r2_score:  0.99828\n",
            "Current Epoch: 55 \n",
            "\n",
            "Epoch: 56, Loss:  1276.6086\n",
            "Epoch: 56, Loss:  1707.4921\n",
            "Epoch: 56, Loss:  770.4914\n",
            "Train loss:  1123.17749 | Test loss:  869.19824 \n",
            "\n",
            "Test accuracy:  869.19833 | r2_score:  0.99857\n",
            "Current Epoch: 56 \n",
            "\n",
            "Epoch: 57, Loss:  1356.7632\n",
            "Epoch: 57, Loss:  1880.8463\n",
            "Epoch: 57, Loss:  758.9988\n",
            "Train loss:  1015.84900 | Test loss:  706.02606 \n",
            "\n",
            "Test accuracy:  706.02613 | r2_score:  0.99884\n",
            "Current Epoch: 57 \n",
            "\n",
            "Epoch: 58, Loss:  1294.6068\n",
            "Epoch: 58, Loss:  1082.2711\n",
            "Epoch: 58, Loss:  1653.8372\n",
            "Train loss:  1101.02905 | Test loss:  692.55701 \n",
            "\n",
            "Test accuracy:  692.55700 | r2_score:  0.99886\n",
            "Current Epoch: 58 \n",
            "\n",
            "Epoch: 59, Loss:  691.7990\n",
            "Epoch: 59, Loss:  622.8343\n",
            "Epoch: 59, Loss:  1634.8944\n",
            "Train loss:  1155.92371 | Test loss:  834.62958 \n",
            "\n",
            "Test accuracy:  834.62964 | r2_score:  0.99862\n",
            "Current Epoch: 59 \n",
            "\n",
            "Epoch: 60, Loss:  1025.6930\n",
            "Epoch: 60, Loss:  796.5801\n",
            "Epoch: 60, Loss:  1124.3778\n",
            "Train loss:  845.32971 | Test loss:  1030.34534 \n",
            "\n",
            "Test accuracy:  1030.34542 | r2_score:  0.99830\n",
            "Current Epoch: 60 \n",
            "\n",
            "Epoch: 61, Loss:  936.9127\n",
            "Epoch: 61, Loss:  783.7667\n",
            "Epoch: 61, Loss:  411.5306\n",
            "Train loss:  987.84467 | Test loss:  793.29089 \n",
            "\n",
            "Test accuracy:  793.29092 | r2_score:  0.99869\n",
            "Current Epoch: 61 \n",
            "\n",
            "Epoch: 62, Loss:  755.3599\n",
            "Epoch: 62, Loss:  1014.6401\n",
            "Epoch: 62, Loss:  610.4013\n",
            "Train loss:  878.62378 | Test loss:  1068.26282 \n",
            "\n",
            "Test accuracy:  1068.26277 | r2_score:  0.99823\n",
            "Current Epoch: 62 \n",
            "\n",
            "Epoch: 63, Loss:  995.6675\n",
            "Epoch: 63, Loss:  1321.5372\n",
            "Epoch: 63, Loss:  838.9193\n",
            "Train loss:  724.61859 | Test loss:  860.96448 \n",
            "\n",
            "Test accuracy:  860.96451 | r2_score:  0.99857\n",
            "Current Epoch: 63 \n",
            "\n",
            "Epoch: 64, Loss:  269.1643\n",
            "Epoch: 64, Loss:  950.5695\n",
            "Epoch: 64, Loss:  778.5989\n",
            "Train loss:  815.25092 | Test loss:  463.35178 \n",
            "\n",
            "Test accuracy:  463.35179 | r2_score:  0.99923\n",
            "Current Epoch: 64 \n",
            "\n",
            "Epoch: 65, Loss:  852.8092\n",
            "Epoch: 65, Loss:  458.1541\n",
            "Epoch: 65, Loss:  3936.3259\n",
            "Train loss:  1296.56128 | Test loss:  1043.40906 \n",
            "\n",
            "Test accuracy:  1043.40904 | r2_score:  0.99828\n",
            "Current Epoch: 65 \n",
            "\n",
            "Epoch: 66, Loss:  1018.8293\n",
            "Epoch: 66, Loss:  1016.4141\n",
            "Epoch: 66, Loss:  912.0455\n",
            "Train loss:  1067.50513 | Test loss:  493.36594 \n",
            "\n",
            "Test accuracy:  493.36591 | r2_score:  0.99919\n",
            "Current Epoch: 66 \n",
            "\n",
            "Epoch: 67, Loss:  617.9812\n",
            "Epoch: 67, Loss:  1260.8311\n",
            "Epoch: 67, Loss:  625.8702\n",
            "Train loss:  1117.77148 | Test loss:  743.93005 \n",
            "\n",
            "Test accuracy:  743.92999 | r2_score:  0.99876\n",
            "Current Epoch: 67 \n",
            "\n",
            "Epoch: 68, Loss:  519.0731\n",
            "Epoch: 68, Loss:  258.4728\n",
            "Epoch: 68, Loss:  899.0634\n",
            "Train loss:  719.15503 | Test loss:  750.07208 \n",
            "\n",
            "Test accuracy:  750.07207 | r2_score:  0.99877\n",
            "Current Epoch: 68 \n",
            "\n",
            "Epoch: 69, Loss:  864.6616\n",
            "Epoch: 69, Loss:  364.8424\n",
            "Epoch: 69, Loss:  189.4172\n",
            "Train loss:  690.30951 | Test loss:  354.96664 \n",
            "\n",
            "Test accuracy:  354.96663 | r2_score:  0.99941\n",
            "Current Epoch: 69 \n",
            "\n",
            "Epoch: 70, Loss:  413.5366\n",
            "Epoch: 70, Loss:  813.4183\n",
            "Epoch: 70, Loss:  542.5005\n",
            "Train loss:  504.01590 | Test loss:  342.28561 \n",
            "\n",
            "Test accuracy:  342.28561 | r2_score:  0.99943\n",
            "Current Epoch: 70 \n",
            "\n",
            "Epoch: 71, Loss:  196.2151\n",
            "Epoch: 71, Loss:  765.0229\n",
            "Epoch: 71, Loss:  527.9561\n",
            "Train loss:  605.67908 | Test loss:  1387.78796 \n",
            "\n",
            "Test accuracy:  1387.78799 | r2_score:  0.99770\n",
            "Current Epoch: 71 \n",
            "\n",
            "Epoch: 72, Loss:  1315.2050\n",
            "Epoch: 72, Loss:  769.3437\n",
            "Epoch: 72, Loss:  488.3569\n",
            "Train loss:  622.80566 | Test loss:  380.09668 \n",
            "\n",
            "Test accuracy:  380.09671 | r2_score:  0.99937\n",
            "Current Epoch: 72 \n",
            "\n",
            "Epoch: 73, Loss:  407.5878\n",
            "Epoch: 73, Loss:  191.2957\n",
            "Epoch: 73, Loss:  259.7179\n",
            "Train loss:  423.85831 | Test loss:  437.72433 \n",
            "\n",
            "Test accuracy:  437.72432 | r2_score:  0.99928\n",
            "Current Epoch: 73 \n",
            "\n",
            "Epoch: 74, Loss:  418.2906\n",
            "Epoch: 74, Loss:  451.0728\n",
            "Epoch: 74, Loss:  333.9032\n",
            "Train loss:  403.56641 | Test loss:  401.07761 \n",
            "\n",
            "Test accuracy:  401.07759 | r2_score:  0.99934\n",
            "Current Epoch: 74 \n",
            "\n",
            "Epoch: 75, Loss:  404.0985\n",
            "Epoch: 75, Loss:  448.3421\n",
            "Epoch: 75, Loss:  282.3532\n",
            "Train loss:  499.27466 | Test loss:  442.35736 \n",
            "\n",
            "Test accuracy:  442.35731 | r2_score:  0.99927\n",
            "Current Epoch: 75 \n",
            "\n",
            "Epoch: 76, Loss:  514.0849\n",
            "Epoch: 76, Loss:  177.2347\n",
            "Epoch: 76, Loss:  347.6877\n",
            "Train loss:  342.87399 | Test loss:  813.73779 \n",
            "\n",
            "Test accuracy:  813.73785 | r2_score:  0.99865\n",
            "Current Epoch: 76 \n",
            "\n",
            "Epoch: 77, Loss:  719.5880\n",
            "Epoch: 77, Loss:  160.7550\n",
            "Epoch: 77, Loss:  279.0003\n",
            "Train loss:  374.75681 | Test loss:  259.45917 \n",
            "\n",
            "Test accuracy:  259.45916 | r2_score:  0.99957\n",
            "Current Epoch: 77 \n",
            "\n",
            "Epoch: 78, Loss:  381.6266\n",
            "Epoch: 78, Loss:  270.7360\n",
            "Epoch: 78, Loss:  499.4267\n",
            "Train loss:  455.42578 | Test loss:  429.33844 \n",
            "\n",
            "Test accuracy:  429.33841 | r2_score:  0.99929\n",
            "Current Epoch: 78 \n",
            "\n",
            "Epoch: 79, Loss:  570.0846\n",
            "Epoch: 79, Loss:  175.9932\n",
            "Epoch: 79, Loss:  201.5492\n",
            "Train loss:  333.54813 | Test loss:  224.41054 \n",
            "\n",
            "Test accuracy:  224.41054 | r2_score:  0.99963\n",
            "Current Epoch: 79 \n",
            "\n",
            "Epoch: 80, Loss:  212.4848\n",
            "Epoch: 80, Loss:  305.1278\n",
            "Epoch: 80, Loss:  306.9185\n",
            "Train loss:  293.96896 | Test loss:  391.98422 \n",
            "\n",
            "Test accuracy:  391.98421 | r2_score:  0.99934\n",
            "Current Epoch: 80 \n",
            "\n",
            "Epoch: 81, Loss:  339.8548\n",
            "Epoch: 81, Loss:  261.5856\n",
            "Epoch: 81, Loss:  258.3071\n",
            "Train loss:  334.96207 | Test loss:  301.54514 \n",
            "\n",
            "Test accuracy:  301.54514 | r2_score:  0.99950\n",
            "Current Epoch: 81 \n",
            "\n",
            "Epoch: 82, Loss:  270.8794\n",
            "Epoch: 82, Loss:  123.1932\n",
            "Epoch: 82, Loss:  346.7353\n",
            "Train loss:  297.16934 | Test loss:  232.00284 \n",
            "\n",
            "Test accuracy:  232.00286 | r2_score:  0.99962\n",
            "Current Epoch: 82 \n",
            "\n",
            "Epoch: 83, Loss:  93.9044\n",
            "Epoch: 83, Loss:  138.8963\n",
            "Epoch: 83, Loss:  296.7917\n",
            "Train loss:  301.36365 | Test loss:  419.11377 \n",
            "\n",
            "Test accuracy:  419.11378 | r2_score:  0.99931\n",
            "Current Epoch: 83 \n",
            "\n",
            "Epoch: 84, Loss:  703.3199\n",
            "Epoch: 84, Loss:  200.0762\n",
            "Epoch: 84, Loss:  449.9299\n",
            "Train loss:  257.97647 | Test loss:  308.84659 \n",
            "\n",
            "Test accuracy:  308.84659 | r2_score:  0.99949\n",
            "Current Epoch: 84 \n",
            "\n",
            "Epoch: 85, Loss:  462.1472\n",
            "Epoch: 85, Loss:  292.4252\n",
            "Epoch: 85, Loss:  460.3957\n",
            "Train loss:  316.17331 | Test loss:  423.36783 \n",
            "\n",
            "Test accuracy:  423.36782 | r2_score:  0.99931\n",
            "Current Epoch: 85 \n",
            "\n",
            "Epoch: 86, Loss:  631.0270\n",
            "Epoch: 86, Loss:  190.0245\n",
            "Epoch: 86, Loss:  994.9580\n",
            "Train loss:  302.53137 | Test loss:  245.68495 \n",
            "\n",
            "Test accuracy:  245.68496 | r2_score:  0.99959\n",
            "Current Epoch: 86 \n",
            "\n",
            "Epoch: 87, Loss:  323.9099\n",
            "Epoch: 87, Loss:  102.0915\n",
            "Epoch: 87, Loss:  344.9539\n",
            "Train loss:  252.92090 | Test loss:  225.89732 \n",
            "\n",
            "Test accuracy:  225.89733 | r2_score:  0.99963\n",
            "Current Epoch: 87 \n",
            "\n",
            "Epoch: 88, Loss:  235.6427\n",
            "Epoch: 88, Loss:  215.6113\n",
            "Epoch: 88, Loss:  154.0718\n",
            "Train loss:  251.98668 | Test loss:  457.47461 \n",
            "\n",
            "Test accuracy:  457.47467 | r2_score:  0.99924\n",
            "Current Epoch: 88 \n",
            "\n",
            "Epoch: 89, Loss:  342.9230\n",
            "Epoch: 89, Loss:  252.1287\n",
            "Epoch: 89, Loss:  308.7549\n",
            "Train loss:  259.43890 | Test loss:  182.58015 \n",
            "\n",
            "Test accuracy:  182.58016 | r2_score:  0.99969\n",
            "Current Epoch: 89 \n",
            "\n",
            "Epoch: 90, Loss:  132.5187\n",
            "Epoch: 90, Loss:  184.3592\n",
            "Epoch: 90, Loss:  270.8268\n",
            "Train loss:  203.93536 | Test loss:  309.80521 \n",
            "\n",
            "Test accuracy:  309.80521 | r2_score:  0.99948\n",
            "Current Epoch: 90 \n",
            "\n",
            "Epoch: 91, Loss:  247.9836\n",
            "Epoch: 91, Loss:  367.2151\n",
            "Epoch: 91, Loss:  417.5094\n",
            "Train loss:  439.28479 | Test loss:  850.62793 \n",
            "\n",
            "Test accuracy:  850.62783 | r2_score:  0.99859\n",
            "Current Epoch: 91 \n",
            "\n",
            "Epoch: 92, Loss:  856.3503\n",
            "Epoch: 92, Loss:  149.6056\n",
            "Epoch: 92, Loss:  293.5368\n",
            "Train loss:  351.59988 | Test loss:  393.12238 \n",
            "\n",
            "Test accuracy:  393.12238 | r2_score:  0.99934\n",
            "Current Epoch: 92 \n",
            "\n",
            "Epoch: 93, Loss:  339.9058\n",
            "Epoch: 93, Loss:  202.9712\n",
            "Epoch: 93, Loss:  259.2405\n",
            "Train loss:  253.52118 | Test loss:  571.44586 \n",
            "\n",
            "Test accuracy:  571.44590 | r2_score:  0.99905\n",
            "Current Epoch: 93 \n",
            "\n",
            "Epoch: 94, Loss:  725.7021\n",
            "Epoch: 94, Loss:  90.8413\n",
            "Epoch: 94, Loss:  171.1790\n",
            "Train loss:  243.31436 | Test loss:  142.71980 \n",
            "\n",
            "Test accuracy:  142.71980 | r2_score:  0.99976\n",
            "Current Epoch: 94 \n",
            "\n",
            "Epoch: 95, Loss:  130.2079\n",
            "Epoch: 95, Loss:  131.2255\n",
            "Epoch: 95, Loss:  402.1652\n",
            "Train loss:  209.94676 | Test loss:  217.91684 \n",
            "\n",
            "Test accuracy:  217.91684 | r2_score:  0.99964\n",
            "Current Epoch: 95 \n",
            "\n",
            "Epoch: 96, Loss:  323.5940\n",
            "Epoch: 96, Loss:  290.3567\n",
            "Epoch: 96, Loss:  283.2251\n",
            "Train loss:  260.38593 | Test loss:  176.31815 \n",
            "\n",
            "Test accuracy:  176.31817 | r2_score:  0.99971\n",
            "Current Epoch: 96 \n",
            "\n",
            "Epoch: 97, Loss:  92.7926\n",
            "Epoch: 97, Loss:  243.1906\n",
            "Epoch: 97, Loss:  631.8489\n",
            "Train loss:  274.19250 | Test loss:  432.73593 \n",
            "\n",
            "Test accuracy:  432.73594 | r2_score:  0.99929\n",
            "Current Epoch: 97 \n",
            "\n",
            "Epoch: 98, Loss:  369.0222\n",
            "Epoch: 98, Loss:  322.6164\n",
            "Epoch: 98, Loss:  141.9275\n",
            "Train loss:  322.81873 | Test loss:  870.61005 \n",
            "\n",
            "Test accuracy:  870.61009 | r2_score:  0.99855\n",
            "Current Epoch: 98 \n",
            "\n",
            "Epoch: 99, Loss:  420.9229\n",
            "Epoch: 99, Loss:  234.8542\n",
            "Epoch: 99, Loss:  256.7922\n",
            "Train loss:  338.40500 | Test loss:  287.58151 \n",
            "\n",
            "Test accuracy:  287.58151 | r2_score:  0.99953\n",
            "Current Epoch: 99 \n",
            "\n",
            "Epoch: 100, Loss:  318.3463\n",
            "Epoch: 100, Loss:  137.4169\n",
            "Epoch: 100, Loss:  256.1131\n",
            "Train loss:  224.65865 | Test loss:  327.94455 \n",
            "\n",
            "Test accuracy:  327.94452 | r2_score:  0.99946\n",
            "Total run time: 7.474018832999718\n"
          ]
        }
      ]
    },
    {
      "cell_type": "code",
      "source": [],
      "metadata": {
        "id": "7Yo_qvd5mVx1"
      },
      "execution_count": null,
      "outputs": []
    },
    {
      "cell_type": "code",
      "source": [],
      "metadata": {
        "id": "BzgHzWxZgpI7"
      },
      "execution_count": null,
      "outputs": []
    },
    {
      "cell_type": "markdown",
      "source": [
        "# Plotting the model progress over the epochs"
      ],
      "metadata": {
        "id": "8tNSAM7c9uAt"
      }
    },
    {
      "cell_type": "code",
      "source": [
        "plot_x_y(x_input, mt_model_1(x_input.unsqueeze(dim=1)).squeeze().detach().numpy())"
      ],
      "metadata": {
        "colab": {
          "base_uri": "https://localhost:8080/",
          "height": 449
        },
        "id": "dm3CQXPM98M_",
        "outputId": "8662d659-a735-4bcc-accf-ddab2eea51c4"
      },
      "execution_count": null,
      "outputs": [
        {
          "output_type": "display_data",
          "data": {
            "text/plain": [
              "<Figure size 640x480 with 1 Axes>"
            ],
            "image/png": "[encoded data removed]"
          },
          "metadata": {}
        }
      ]
    },
    {
      "cell_type": "code",
      "source": [],
      "metadata": {
        "id": "fnuptE6epF7b"
      },
      "execution_count": null,
      "outputs": []
    },
    {
      "cell_type": "code",
      "source": [
        "for curr in learning_tracker.keys():\n",
        "    plt.plot(x_input, learning_tracker[curr], label = curr)\n",
        "\n",
        "plt.xlabel(\"X\")\n",
        "plt.ylabel(\"Y\")\n",
        "plt.legend()\n",
        "plt.grid()\n",
        "plt.show()"
      ],
      "metadata": {
        "colab": {
          "base_uri": "https://localhost:8080/",
          "height": 449
        },
        "id": "S_m7MJ7VxkZb",
        "outputId": "eb91f72e-774c-484a-ec45-4eea767e2d4a"
      },
      "execution_count": null,
      "outputs": [
        {
          "output_type": "display_data",
          "data": {
            "text/plain": [
              "<Figure size 640x480 with 1 Axes>"
            ],
            "image/png": "[encoded data removed]"
          },
          "metadata": {}
        }
      ]
    },
    {
      "cell_type": "code",
      "source": [],
      "metadata": {
        "id": "TWVUMlHlxkev"
      },
      "execution_count": null,
      "outputs": []
    },
    {
      "cell_type": "code",
      "source": [],
      "metadata": {
        "id": "3Nt_HbN_xkjv"
      },
      "execution_count": null,
      "outputs": []
    }
  ]
}